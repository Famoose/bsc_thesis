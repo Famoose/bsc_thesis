{
 "cells": [
  {
   "cell_type": "code",
   "id": "initial_id",
   "metadata": {
    "collapsed": true,
    "ExecuteTime": {
     "end_time": "2024-04-18T21:15:25.995513Z",
     "start_time": "2024-04-18T21:15:25.993818Z"
    }
   },
   "source": [
    ""
   ],
   "outputs": [],
   "execution_count": 2
  },
  {
   "metadata": {
    "ExecuteTime": {
     "end_time": "2024-04-19T12:03:06.140375Z",
     "start_time": "2024-04-19T12:02:57.238440Z"
    }
   },
   "cell_type": "code",
   "source": [
    "from pathlib import Path\n",
    "from stable_baselines3.common.evaluation import evaluate_policy\n",
    "import gymnasium as gym\n",
    "\n",
    "from stable_baselines3 import PPO\n",
    "from stable_baselines3.common.env_util import make_vec_env\n",
    "\n",
    "# Parallel environments\n",
    "vec_env = make_vec_env(\"CartPole-v1\", n_envs=8)\n",
    "\n",
    "model = PPO(\"MlpPolicy\", vec_env, verbose=1, tensorboard_log=\"./ppo_cartpole_tensorboard/\")\n",
    "model.learn(total_timesteps=25000, tb_log_name=\"second_run\")\n",
    "\n",
    "env = gym.make(\"CartPole-v1\")\n",
    "\n",
    "mean_reward, std_reward = evaluate_policy(model, vec_env, n_eval_episodes=10)\n",
    "print(f\"Mean reward: {mean_reward} +/- {std_reward:.2f}\")"
   ],
   "id": "5d59f648c848170b",
   "outputs": [
    {
     "name": "stdout",
     "output_type": "stream",
     "text": [
      "Using cpu device\n",
      "Logging to ./ppo_cartpole_tensorboard/second_run_3\n",
      "---------------------------------\n",
      "| rollout/           |          |\n",
      "|    ep_len_mean     | 20.7     |\n",
      "|    ep_rew_mean     | 20.7     |\n",
      "| time/              |          |\n",
      "|    fps             | 35033    |\n",
      "|    iterations      | 1        |\n",
      "|    time_elapsed    | 0        |\n",
      "|    total_timesteps | 16384    |\n",
      "---------------------------------\n",
      "-----------------------------------------\n",
      "| rollout/                |             |\n",
      "|    ep_len_mean          | 38.5        |\n",
      "|    ep_rew_mean          | 38.5        |\n",
      "| time/                   |             |\n",
      "|    fps                  | 6420        |\n",
      "|    iterations           | 2           |\n",
      "|    time_elapsed         | 5           |\n",
      "|    total_timesteps      | 32768       |\n",
      "| train/                  |             |\n",
      "|    approx_kl            | 0.016047535 |\n",
      "|    clip_fraction        | 0.28        |\n",
      "|    clip_range           | 0.2         |\n",
      "|    entropy_loss         | -0.68       |\n",
      "|    explained_variance   | -0.00331    |\n",
      "|    learning_rate        | 0.0003      |\n",
      "|    loss                 | 3.36        |\n",
      "|    n_updates            | 10          |\n",
      "|    policy_gradient_loss | -0.0304     |\n",
      "|    value_loss           | 12.4        |\n",
      "-----------------------------------------\n",
      "Mean reward: 345.6 +/- 91.31\n"
     ]
    }
   ],
   "execution_count": 14
  }
 ],
 "metadata": {
  "kernelspec": {
   "display_name": "Python 3",
   "language": "python",
   "name": "python3"
  },
  "language_info": {
   "codemirror_mode": {
    "name": "ipython",
    "version": 2
   },
   "file_extension": ".py",
   "mimetype": "text/x-python",
   "name": "python",
   "nbconvert_exporter": "python",
   "pygments_lexer": "ipython2",
   "version": "2.7.6"
  }
 },
 "nbformat": 4,
 "nbformat_minor": 5
}
