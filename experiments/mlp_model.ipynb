{
 "cells": [
  {
   "metadata": {
    "ExecuteTime": {
     "end_time": "2024-04-26T07:18:44.148540Z",
     "start_time": "2024-04-26T07:18:44.134535Z"
    }
   },
   "cell_type": "code",
   "source": [
    "# Model Param\n",
    "TOTAL_TIMESTEP_NUMB = 800_000\n",
    "LEARNING_RATE = 0.0001\n",
    "GAE = 1.0\n",
    "ENT_COEF = 0.01\n",
    "N_STEPS = 512\n",
    "GAMMA = 0.9\n",
    "BATCH_SIZE = 64\n",
    "N_EPOCHS = 10\n",
    "\n",
    "# Test Param\n",
    "EVAL_FREQ = 10000\n",
    "TEST_EPISODE_NUMBERS = 20"
   ],
   "id": "190e8d813e519441",
   "outputs": [],
   "execution_count": 6
  },
  {
   "metadata": {
    "ExecuteTime": {
     "end_time": "2024-04-26T07:18:44.164044Z",
     "start_time": "2024-04-26T07:18:44.152042Z"
    }
   },
   "cell_type": "code",
   "source": [
    "from pathlib import Path\n",
    "\n",
    "save_dir = Path('./mlp_model')"
   ],
   "id": "356c5b9f625e9698",
   "outputs": [],
   "execution_count": 7
  },
  {
   "metadata": {
    "ExecuteTime": {
     "end_time": "2024-04-26T07:18:44.195050Z",
     "start_time": "2024-04-26T07:18:44.181547Z"
    }
   },
   "cell_type": "code",
   "source": [
    "from model_mlp import MarioNetMLP1, MarioNetMLP2, MarioNetMLP3, MarioNetMLP4\n",
    "from model_cnn import MarioNet\n",
    "\n",
    "policy_kwargs_1 = dict(\n",
    "    features_extractor_class=MarioNetMLP1,\n",
    "    features_extractor_kwargs=dict(features_dim=256),\n",
    ")\n",
    "policy_kwargs_2 = dict(\n",
    "    features_extractor_class=MarioNetMLP2,\n",
    "    features_extractor_kwargs=dict(features_dim=256),\n",
    ")\n",
    "policy_kwargs_3 = dict(\n",
    "    features_extractor_class=MarioNetMLP3,\n",
    "    features_extractor_kwargs=dict(features_dim=256),\n",
    ")\n",
    "policy_kwargs_4 = dict(\n",
    "    features_extractor_class=MarioNetMLP4,\n",
    "    features_extractor_kwargs=dict(features_dim=256),\n",
    ")\n",
    "\n",
    "policy_kwargs_control = dict(\n",
    "    features_extractor_class=MarioNet,\n",
    "    features_extractor_kwargs=dict(features_dim=256),\n",
    ")"
   ],
   "id": "5e5076bbc86f9dfc",
   "outputs": [],
   "execution_count": 8
  },
  {
   "metadata": {
    "ExecuteTime": {
     "end_time": "2024-04-26T07:18:50.637142Z",
     "start_time": "2024-04-26T07:18:44.196549Z"
    }
   },
   "cell_type": "code",
   "source": [
    "from utils import make_parallel_env, STAGE_PIXEL, STAGE_RECTANGLE\n",
    "\n",
    "env = make_parallel_env(STAGE_RECTANGLE, 8, stack=False, resize=42)\n",
    "eval = make_parallel_env(STAGE_RECTANGLE, 1, stack=False, resize=42)\n",
    "\n",
    "# dict with the different environments and names\n",
    "models = {\n",
    "    'MLP_1': dict(env=env, eval=eval, policy_kwargs=policy_kwargs_1),\n",
    "    'MLP_2': dict(env=env, eval=eval, policy_kwargs=policy_kwargs_2),\n",
    "    'MLP_3': dict(env=env, eval=eval, policy_kwargs=policy_kwargs_3),\n",
    "    'MLP_4': dict(env=env, eval=eval, policy_kwargs=policy_kwargs_4),\n",
    "    'CNN': dict(env=env, eval=eval, policy_kwargs=policy_kwargs_control),\n",
    "}"
   ],
   "id": "ae5282df420a1cc",
   "outputs": [],
   "execution_count": 9
  },
  {
   "metadata": {
    "ExecuteTime": {
     "end_time": "2024-04-26T08:19:40.702340Z",
     "start_time": "2024-04-26T07:18:50.638143Z"
    }
   },
   "cell_type": "code",
   "source": [
    "from utils import TrainAndLoggingCallback\n",
    "from stable_baselines3 import PPO\n",
    "\n",
    "for key in models.keys():\n",
    "    print(f\"Training {key}\")\n",
    "    model = PPO('CnnPolicy', models[key]['env'], verbose=0, policy_kwargs=models[key]['policy_kwargs'], tensorboard_log=save_dir,\n",
    "                learning_rate=LEARNING_RATE, n_steps=N_STEPS, batch_size=BATCH_SIZE, n_epochs=N_EPOCHS, gamma=GAMMA,\n",
    "                gae_lambda=GAE, ent_coef=ENT_COEF)\n",
    "    callback = TrainAndLoggingCallback(test_env=models[key]['eval'], check_freq=EVAL_FREQ, episode_num=TEST_EPISODE_NUMBERS)\n",
    "\n",
    "    model.learn(total_timesteps=TOTAL_TIMESTEP_NUMB, tb_log_name=key, callback=callback)\n",
    "\n"
   ],
   "id": "b979069e0aa609ec",
   "outputs": [
    {
     "name": "stdout",
     "output_type": "stream",
     "text": [
      "Training CNN\n",
      "time steps: 80000\n",
      "average reward: 781.8 average time: 200.2 best_reward: 1393.0\n",
      "time steps: 160000\n",
      "average reward: 1037.35 average time: 221.95 best_reward: 1408.0\n",
      "time steps: 240000\n",
      "average reward: 851.2 average time: 178.85 best_reward: 1314.0\n",
      "time steps: 320000\n",
      "average reward: 1145.7 average time: 226.65 best_reward: 2327.0\n",
      "time steps: 400000\n",
      "average reward: 1507.35 average time: 287.1 best_reward: 2603.0\n",
      "time steps: 480000\n",
      "average reward: 1647.6 average time: 334.15 best_reward: 3008.0\n",
      "time steps: 560000\n",
      "average reward: 1830.95 average time: 347.3 best_reward: 3012.0\n",
      "time steps: 640000\n",
      "average reward: 1528.75 average time: 296.15 best_reward: 3010.0\n",
      "time steps: 720000\n",
      "average reward: 1405.9 average time: 272.4 best_reward: 2592.0\n",
      "time steps: 800000\n",
      "average reward: 1426.9 average time: 269.25 best_reward: 2340.0\n"
     ]
    }
   ],
   "execution_count": 10
  },
  {
   "cell_type": "code",
   "id": "initial_id",
   "metadata": {
    "collapsed": true,
    "ExecuteTime": {
     "end_time": "2024-04-26T08:19:40.717842Z",
     "start_time": "2024-04-26T08:19:40.703340Z"
    }
   },
   "source": "",
   "outputs": [],
   "execution_count": 10
  }
 ],
 "metadata": {
  "kernelspec": {
   "display_name": "Python 3",
   "language": "python",
   "name": "python3"
  },
  "language_info": {
   "codemirror_mode": {
    "name": "ipython",
    "version": 2
   },
   "file_extension": ".py",
   "mimetype": "text/x-python",
   "name": "python",
   "nbconvert_exporter": "python",
   "pygments_lexer": "ipython2",
   "version": "2.7.6"
  }
 },
 "nbformat": 4,
 "nbformat_minor": 5
}
