{
 "cells": [
  {
   "metadata": {
    "ExecuteTime": {
     "end_time": "2024-04-24T20:55:31.401364Z",
     "start_time": "2024-04-24T20:55:31.384788Z"
    }
   },
   "cell_type": "code",
   "source": [
    "# Model Param\n",
    "TOTAL_TIMESTEP_NUMB = 800_000\n",
    "LEARNING_RATE = 0.0001\n",
    "GAE = 1.0\n",
    "ENT_COEF = 0.01\n",
    "N_STEPS = 512\n",
    "GAMMA = 0.9\n",
    "BATCH_SIZE = 64\n",
    "N_EPOCHS = 10\n",
    "\n",
    "# Test Param\n",
    "EVAL_FREQ = 10000\n",
    "TEST_EPISODE_NUMBERS = 20"
   ],
   "id": "190e8d813e519441",
   "outputs": [],
   "execution_count": 6
  },
  {
   "metadata": {
    "ExecuteTime": {
     "end_time": "2024-04-24T20:55:31.416867Z",
     "start_time": "2024-04-24T20:55:31.402864Z"
    }
   },
   "cell_type": "code",
   "source": [
    "from pathlib import Path\n",
    "\n",
    "save_dir = Path('./4stack')"
   ],
   "id": "356c5b9f625e9698",
   "outputs": [],
   "execution_count": 7
  },
  {
   "metadata": {
    "ExecuteTime": {
     "end_time": "2024-04-24T20:55:31.432372Z",
     "start_time": "2024-04-24T20:55:31.417868Z"
    }
   },
   "cell_type": "code",
   "source": [
    "from model_cnn import MarioNet\n",
    "\n",
    "policy_kwargs = dict(\n",
    "    features_extractor_class=MarioNet,\n",
    "    features_extractor_kwargs=dict(features_dim=512),\n",
    ")"
   ],
   "id": "5e5076bbc86f9dfc",
   "outputs": [],
   "execution_count": 8
  },
  {
   "metadata": {
    "ExecuteTime": {
     "end_time": "2024-04-24T20:55:42.456508Z",
     "start_time": "2024-04-24T20:55:31.433876Z"
    }
   },
   "cell_type": "code",
   "source": [
    "from utils import make_parallel_env, STAGE_PIXEL, STAGE_RECTANGLE\n",
    "\n",
    "env_no_stack = make_parallel_env(STAGE_RECTANGLE, 8, stack=False)\n",
    "env_with_stack = make_parallel_env(STAGE_RECTANGLE, 8)\n",
    "\n",
    "# dict with the different environments and names\n",
    "env = {\n",
    "    'env_no_stack': dict(env=env_no_stack, eval=make_parallel_env(STAGE_RECTANGLE, 1, stack=False)),\n",
    "    'env_with_stack': dict(env=env_with_stack, eval=make_parallel_env(STAGE_RECTANGLE, 1)),\n",
    "}"
   ],
   "id": "ae5282df420a1cc",
   "outputs": [],
   "execution_count": 9
  },
  {
   "metadata": {
    "ExecuteTime": {
     "end_time": "2024-04-25T01:14:11.804031Z",
     "start_time": "2024-04-24T20:55:42.459006Z"
    }
   },
   "cell_type": "code",
   "source": [
    "from utils import TrainAndLoggingCallback\n",
    "from stable_baselines3 import PPO\n",
    "\n",
    "for key in env.keys():\n",
    "    print(f\"Training {key}\")\n",
    "    model = PPO('CnnPolicy', env[key]['env'], verbose=0, policy_kwargs=policy_kwargs, tensorboard_log=save_dir,\n",
    "                learning_rate=LEARNING_RATE, n_steps=N_STEPS, batch_size=BATCH_SIZE, n_epochs=N_EPOCHS, gamma=GAMMA,\n",
    "                gae_lambda=GAE, ent_coef=ENT_COEF)\n",
    "    callback = TrainAndLoggingCallback(test_env=env[key]['eval'], check_freq=EVAL_FREQ, episode_num=TEST_EPISODE_NUMBERS)\n",
    "\n",
    "    model.learn(total_timesteps=TOTAL_TIMESTEP_NUMB, tb_log_name=key, callback=callback)\n",
    "\n"
   ],
   "id": "b979069e0aa609ec",
   "outputs": [
    {
     "name": "stdout",
     "output_type": "stream",
     "text": [
      "Training env_no_stack\n",
      "time steps: 80000\n",
      "average reward: 877.6 average time: 203.05 best_reward: 1664.0\n"
     ]
    },
    {
     "name": "stderr",
     "output_type": "stream",
     "text": [
      "C:\\Users\\lukas\\PycharmProjects\\bsc_thesis\\utils.py:166: UserWarning: Creating a tensor from a list of numpy.ndarrays is extremely slow. Please consider converting the list to a single numpy.ndarray with numpy.array() before converting to a tensor. (Triggered internally at C:\\actions-runner\\_work\\pytorch\\pytorch\\builder\\windows\\pytorch\\torch\\csrc\\utils\\tensor_new.cpp:278.)\n",
      "  Video(th.ByteTensor([screens]), fps=40),\n"
     ]
    },
    {
     "name": "stdout",
     "output_type": "stream",
     "text": [
      "time steps: 160000\n",
      "average reward: 1160.9 average time: 230.35 best_reward: 2330.0\n",
      "time steps: 240000\n",
      "average reward: 1458.45 average time: 290.65 best_reward: 2982.0\n",
      "time steps: 320000\n",
      "average reward: 2222.75 average time: 418.95 best_reward: 3025.0\n",
      "time steps: 400000\n",
      "average reward: 1895.65 average time: 374.05 best_reward: 3023.0\n",
      "time steps: 480000\n",
      "average reward: 2088.1 average time: 390.55 best_reward: 3028.0\n",
      "time steps: 560000\n",
      "average reward: 2187.05 average time: 424.15 best_reward: 3027.0\n",
      "time steps: 640000\n",
      "average reward: 1400.55 average time: 268.3 best_reward: 3026.0\n",
      "time steps: 720000\n",
      "average reward: 1802.6 average time: 351.9 best_reward: 3029.0\n",
      "time steps: 800000\n",
      "average reward: 2160.55 average time: 416.5 best_reward: 3026.0\n",
      "Training env_with_stack\n",
      "time steps: 80000\n",
      "average reward: 880.35 average time: 216.8 best_reward: 1546.0\n",
      "time steps: 160000\n",
      "average reward: 1053.5 average time: 222.0 best_reward: 2323.0\n",
      "time steps: 240000\n",
      "average reward: 1599.05 average time: 306.25 best_reward: 3018.0\n",
      "time steps: 320000\n",
      "average reward: 1663.35 average time: 311.85 best_reward: 2587.0\n",
      "time steps: 400000\n",
      "average reward: 1558.7 average time: 290.75 best_reward: 3027.0\n",
      "time steps: 480000\n",
      "average reward: 2187.95 average time: 418.6 best_reward: 3026.0\n",
      "time steps: 560000\n",
      "average reward: 1821.35 average time: 346.15 best_reward: 3026.0\n",
      "time steps: 640000\n",
      "average reward: 2484.35 average time: 482.35 best_reward: 3030.0\n",
      "time steps: 720000\n",
      "average reward: 2168.75 average time: 425.95 best_reward: 3028.0\n",
      "time steps: 800000\n",
      "average reward: 2427.75 average time: 463.4 best_reward: 3031.0\n"
     ]
    }
   ],
   "execution_count": 10
  },
  {
   "cell_type": "code",
   "id": "initial_id",
   "metadata": {
    "collapsed": true,
    "ExecuteTime": {
     "end_time": "2024-04-25T01:14:11.819534Z",
     "start_time": "2024-04-25T01:14:11.805531Z"
    }
   },
   "source": "",
   "outputs": [],
   "execution_count": 10
  }
 ],
 "metadata": {
  "kernelspec": {
   "display_name": "Python 3",
   "language": "python",
   "name": "python3"
  },
  "language_info": {
   "codemirror_mode": {
    "name": "ipython",
    "version": 2
   },
   "file_extension": ".py",
   "mimetype": "text/x-python",
   "name": "python",
   "nbconvert_exporter": "python",
   "pygments_lexer": "ipython2",
   "version": "2.7.6"
  }
 },
 "nbformat": 4,
 "nbformat_minor": 5
}
