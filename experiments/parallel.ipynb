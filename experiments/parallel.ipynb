{
 "cells": [
  {
   "metadata": {
    "ExecuteTime": {
     "end_time": "2024-04-24T10:50:45.981726Z",
     "start_time": "2024-04-24T10:50:45.970126Z"
    }
   },
   "cell_type": "code",
   "source": [
    "# Model Param\n",
    "TOTAL_TIMESTEP_NUMB = 200_000\n",
    "LEARNING_RATE = 0.0001\n",
    "GAE = 1.0\n",
    "ENT_COEF = 0.01\n",
    "N_STEPS = 512\n",
    "GAMMA = 0.9\n",
    "BATCH_SIZE = 64\n",
    "N_EPOCHS = 10\n",
    "\n",
    "# Test Param\n",
    "EVAL_FREQ = 10000\n",
    "TEST_EPISODE_NUMBERS = 10"
   ],
   "id": "190e8d813e519441",
   "outputs": [],
   "execution_count": 1
  },
  {
   "metadata": {
    "ExecuteTime": {
     "end_time": "2024-04-24T10:50:45.997228Z",
     "start_time": "2024-04-24T10:50:45.983226Z"
    }
   },
   "cell_type": "code",
   "source": [
    "from pathlib import Path\n",
    "\n",
    "save_dir = Path('./parallel')"
   ],
   "id": "356c5b9f625e9698",
   "outputs": [],
   "execution_count": 2
  },
  {
   "metadata": {
    "ExecuteTime": {
     "end_time": "2024-04-24T10:50:48.106379Z",
     "start_time": "2024-04-24T10:50:45.998228Z"
    }
   },
   "cell_type": "code",
   "source": [
    "from model_cnn import MarioNet\n",
    "\n",
    "policy_kwargs = dict(\n",
    "    features_extractor_class=MarioNet,\n",
    "    features_extractor_kwargs=dict(features_dim=512),\n",
    ")"
   ],
   "id": "5e5076bbc86f9dfc",
   "outputs": [],
   "execution_count": 3
  },
  {
   "metadata": {
    "ExecuteTime": {
     "end_time": "2024-04-24T10:51:02.790Z",
     "start_time": "2024-04-24T10:50:48.107379Z"
    }
   },
   "cell_type": "code",
   "source": [
    "from utils import make_parallel_env, STAGE_PIXEL\n",
    "\n",
    "env_1 = make_parallel_env(STAGE_PIXEL, 1)\n",
    "env_2 = make_parallel_env(STAGE_PIXEL, 2)\n",
    "env_4 = make_parallel_env(STAGE_PIXEL, 4)\n",
    "env_8 = make_parallel_env(STAGE_PIXEL, 8)\n",
    "env_16 = make_parallel_env(STAGE_PIXEL, 16)\n",
    "\n",
    "# dict with the different environments and names\n",
    "env = {\n",
    "    'ENV_NUM_1': env_1,\n",
    "    'ENV_NUM_2': env_2,\n",
    "    'ENV_NUM_4': env_4,\n",
    "    'ENV_NUM_8': env_8,\n",
    "    'ENV_NUM_16': env_16\n",
    "}"
   ],
   "id": "ae5282df420a1cc",
   "outputs": [],
   "execution_count": 4
  },
  {
   "metadata": {
    "jupyter": {
     "is_executing": true
    },
    "ExecuteTime": {
     "start_time": "2024-04-24T10:51:02.791501Z"
    }
   },
   "cell_type": "code",
   "source": [
    "from utils import TrainAndLoggingCallback\n",
    "from stable_baselines3 import PPO\n",
    "\n",
    "eval = make_parallel_env(STAGE_PIXEL, 1)\n",
    "\n",
    "for key in env.keys():\n",
    "    print(f\"Training {key}\")\n",
    "    model = PPO('CnnPolicy', env[key], verbose=0, policy_kwargs=policy_kwargs, tensorboard_log=save_dir,\n",
    "                learning_rate=LEARNING_RATE, n_steps=N_STEPS, batch_size=BATCH_SIZE, n_epochs=N_EPOCHS, gamma=GAMMA, gae_lambda=GAE, ent_coef=ENT_COEF)\n",
    "    callback = TrainAndLoggingCallback(test_env=eval, check_freq=EVAL_FREQ, episode_num=TEST_EPISODE_NUMBERS)\n",
    "    model.learn(total_timesteps=TOTAL_TIMESTEP_NUMB, tb_log_name=key, callback=callback)"
   ],
   "id": "b979069e0aa609ec",
   "outputs": [
    {
     "name": "stdout",
     "output_type": "stream",
     "text": [
      "Training ENV_NUM_1\n",
      "time steps: 10000\n",
      "average reward: 661.7 average time: 129.5 best_reward: 1122.0\n"
     ]
    },
    {
     "name": "stderr",
     "output_type": "stream",
     "text": [
      "C:\\Users\\lukas\\PycharmProjects\\bsc_thesis\\utils.py:159: UserWarning: Creating a tensor from a list of numpy.ndarrays is extremely slow. Please consider converting the list to a single numpy.ndarray with numpy.array() before converting to a tensor. (Triggered internally at C:\\actions-runner\\_work\\pytorch\\pytorch\\builder\\windows\\pytorch\\torch\\csrc\\utils\\tensor_new.cpp:278.)\n",
      "  Video(th.ByteTensor([screens]), fps=40),\n"
     ]
    }
   ],
   "execution_count": null
  }
 ],
 "metadata": {
  "kernelspec": {
   "display_name": "Python 3",
   "language": "python",
   "name": "python3"
  },
  "language_info": {
   "codemirror_mode": {
    "name": "ipython",
    "version": 2
   },
   "file_extension": ".py",
   "mimetype": "text/x-python",
   "name": "python",
   "nbconvert_exporter": "python",
   "pygments_lexer": "ipython2",
   "version": "2.7.6"
  }
 },
 "nbformat": 4,
 "nbformat_minor": 5
}
