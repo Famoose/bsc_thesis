{
 "cells": [
  {
   "metadata": {
    "ExecuteTime": {
     "end_time": "2024-04-24T09:31:12.079668Z",
     "start_time": "2024-04-24T09:31:12.067102Z"
    }
   },
   "cell_type": "code",
   "source": [
    "# Model Param\n",
    "TOTAL_TIMESTEP_NUMB = 500_000\n",
    "LEARNING_RATE = 0.0001\n",
    "GAE = 1.0\n",
    "ENT_COEF = 0.01\n",
    "N_STEPS = 512\n",
    "GAMMA = 0.9\n",
    "BATCH_SIZE = 64\n",
    "N_EPOCHS = 10\n",
    "\n",
    "# Test Param\n",
    "EVAL_FREQ = 10000\n",
    "TEST_EPISODE_NUMBERS = 20"
   ],
   "id": "190e8d813e519441",
   "outputs": [],
   "execution_count": 6
  },
  {
   "metadata": {
    "ExecuteTime": {
     "end_time": "2024-04-24T09:31:12.095171Z",
     "start_time": "2024-04-24T09:31:12.081169Z"
    }
   },
   "cell_type": "code",
   "source": [
    "from pathlib import Path\n",
    "\n",
    "save_dir = Path('./parallel')"
   ],
   "id": "356c5b9f625e9698",
   "outputs": [],
   "execution_count": 7
  },
  {
   "metadata": {
    "ExecuteTime": {
     "end_time": "2024-04-24T09:31:12.110675Z",
     "start_time": "2024-04-24T09:31:12.096172Z"
    }
   },
   "cell_type": "code",
   "source": [
    "from model_cnn import MarioNet\n",
    "\n",
    "policy_kwargs = dict(\n",
    "    features_extractor_class=MarioNet,\n",
    "    features_extractor_kwargs=dict(features_dim=512),\n",
    ")"
   ],
   "id": "5e5076bbc86f9dfc",
   "outputs": [],
   "execution_count": 8
  },
  {
   "metadata": {
    "ExecuteTime": {
     "end_time": "2024-04-24T09:31:27.819149Z",
     "start_time": "2024-04-24T09:31:12.112175Z"
    }
   },
   "cell_type": "code",
   "source": [
    "from utils import make_parallel_env, STAGE_PIXEL\n",
    "\n",
    "env_1 = make_parallel_env(STAGE_PIXEL, 1)\n",
    "env_2 = make_parallel_env(STAGE_PIXEL, 2)\n",
    "env_4 = make_parallel_env(STAGE_PIXEL, 4)\n",
    "env_8 = make_parallel_env(STAGE_PIXEL, 8)\n",
    "env_16 = make_parallel_env(STAGE_PIXEL, 16)\n",
    "\n",
    "# dict with the different environments and names\n",
    "env = {\n",
    "    '1': env_1,\n",
    "    '2': env_2,\n",
    "    '4': env_4,\n",
    "    '8': env_8,\n",
    "    '16': env_16\n",
    "}"
   ],
   "id": "ae5282df420a1cc",
   "outputs": [],
   "execution_count": 9
  },
  {
   "metadata": {
    "jupyter": {
     "is_executing": true
    },
    "ExecuteTime": {
     "start_time": "2024-04-24T09:31:27.865187Z"
    }
   },
   "cell_type": "code",
   "source": [
    "from stable_baselines3 import PPO\n",
    "\n",
    "eval = make_parallel_env(STAGE_PIXEL, 1)\n",
    "\n",
    "for key in env.keys():\n",
    "    print(f\"Training {key}\")\n",
    "    model = PPO('CnnPolicy', env[key], verbose=0, policy_kwargs=policy_kwargs, tensorboard_log=save_dir,\n",
    "                learning_rate=LEARNING_RATE, n_steps=N_STEPS, batch_size=BATCH_SIZE, n_epochs=N_EPOCHS, gamma=GAMMA, gae_lambda=GAE, ent_coef=ENT_COEF)\n",
    "    model.learn(total_timesteps=TOTAL_TIMESTEP_NUMB, tb_log_name=key, eval_env=eval, eval_freq=EVAL_FREQ, n_eval_episodes=TEST_EPISODE_NUMBERS)"
   ],
   "id": "b979069e0aa609ec",
   "outputs": [
    {
     "name": "stdout",
     "output_type": "stream",
     "text": [
      "Training 1\n"
     ]
    }
   ],
   "execution_count": null
  }
 ],
 "metadata": {
  "kernelspec": {
   "display_name": "Python 3",
   "language": "python",
   "name": "python3"
  },
  "language_info": {
   "codemirror_mode": {
    "name": "ipython",
    "version": 2
   },
   "file_extension": ".py",
   "mimetype": "text/x-python",
   "name": "python",
   "nbconvert_exporter": "python",
   "pygments_lexer": "ipython2",
   "version": "2.7.6"
  }
 },
 "nbformat": 4,
 "nbformat_minor": 5
}
